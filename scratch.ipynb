{
 "cells": [
  {
   "cell_type": "code",
   "execution_count": 81,
   "id": "73b8938e",
   "metadata": {},
   "outputs": [],
   "source": [
    "import numpy as np\n",
    "import pandas as pd\n",
    "\n",
    "import montecarlosimulator as mcs\n",
    "from montecarlosimulator.dispersions import DispersionType\n",
    "from dataclasses import is_dataclass, dataclass\n",
    "import re"
   ]
  },
  {
   "cell_type": "code",
   "execution_count": 96,
   "id": "dd919e73",
   "metadata": {},
   "outputs": [
    {
     "data": {
      "text/plain": [
       "__montecarlosimulator_SimulationData()"
      ]
     },
     "execution_count": 96,
     "metadata": {},
     "output_type": "execute_result"
    }
   ],
   "source": [
    "class_src = 'class SimulationData(SimulationDataclass):\\n            parameter1: np.array\\n            parameter2: Union[float, mcs.DispersionType]\\n            parameter3: object'\n",
    "# class_src = 'class SimulationData(SimulationDataclass):\\n    parameter1: np.array\\n    parameter2: Union[float, mcs.DispersionType] = NormalDispersions(3, 4)\\n    parameter3: object\\n@mcs.simulation_dataclass\\nclass NestedSimulationData:\\n    nested_parameter1: int = 3\\n    nested_parameter2: Union[float, mcs.DispersionType]\\n@mcs.simulation_dataclass\\nclass SimulationData:\\n    parameter1: np.array = np.array([1, 2, 3])\\n    parameter2: Union[float, mcs.DispersionType]\\n    parameter3: NestedSimulationData'\n",
    "class_name = re.search('class (.*?)\\(SimulationDataclass\\):', class_src).group(1)\n",
    "internal_class_name = '__montecarlosimulator_'+class_name\n",
    "if re.search('def .*?:', class_src) is not None:\n",
    "    raise SimulationFailureError('Source classes cannot contain user defined functions')\n",
    "# class_src_without_types = re.compile(r'^(?!class)\\s+(.*):.*?=\\s*(.*)?$', re.MULTILINE).findall(class_src)\n",
    "matches = re.compile(r'^(?<!class)\\s+(.*?):.*?(?:=\\s*(.*)?)?$', re.MULTILINE).findall(class_src)\n",
    "\n",
    "# tuple(g1 for g1, g2 in matches if g2 == ''), {g1: g2 for g1, g2 in matches if g2 != ''}\n",
    "\n",
    "test = type(internal_class_name, (), {g1: g2 for g1, g2 in matches})\n",
    "dataclass(test)\n",
    "# test.__dict__\n",
    "\n",
    "# type(internal_class_name, )\n",
    "# print(f'class {internal_class_name}:')\n",
    "# for g1, g2 in matches:\n",
    "#     print(f' {g1} = {g2}')\n",
    "\n",
    "test()"
   ]
  },
  {
   "cell_type": "code",
   "execution_count": 90,
   "id": "21bd808f",
   "metadata": {},
   "outputs": [
    {
     "data": {
      "text/plain": [
       "False"
      ]
     },
     "execution_count": 90,
     "metadata": {},
     "output_type": "execute_result"
    }
   ],
   "source": [
    "is_dataclass(test)"
   ]
  },
  {
   "cell_type": "code",
   "execution_count": 87,
   "id": "84ee99c0",
   "metadata": {},
   "outputs": [
    {
     "ename": "TypeError",
     "evalue": "__init__() got an unexpected keyword argument 'parameter1'",
     "output_type": "error",
     "traceback": [
      "\u001b[1;31m---------------------------------------------------------------------------\u001b[0m",
      "\u001b[1;31mTypeError\u001b[0m                                 Traceback (most recent call last)",
      "\u001b[1;32m~\\AppData\\Local\\Temp/ipykernel_12544/1546427048.py\u001b[0m in \u001b[0;36m<module>\u001b[1;34m\u001b[0m\n\u001b[1;32m----> 1\u001b[1;33m \u001b[0mtest\u001b[0m\u001b[1;33m(\u001b[0m\u001b[0mparameter1\u001b[0m\u001b[1;33m=\u001b[0m\u001b[1;36m1\u001b[0m\u001b[1;33m,\u001b[0m \u001b[0mparameter2\u001b[0m\u001b[1;33m=\u001b[0m\u001b[1;36m1\u001b[0m\u001b[1;33m,\u001b[0m \u001b[0mparameter3\u001b[0m\u001b[1;33m=\u001b[0m\u001b[1;36m1\u001b[0m\u001b[1;33m)\u001b[0m\u001b[1;33m\u001b[0m\u001b[1;33m\u001b[0m\u001b[0m\n\u001b[0m",
      "\u001b[1;31mTypeError\u001b[0m: __init__() got an unexpected keyword argument 'parameter1'"
     ]
    }
   ],
   "source": [
    "test(parameter1=1, parameter2=1, parameter3=1)"
   ]
  },
  {
   "cell_type": "code",
   "execution_count": 100,
   "id": "39dce84a",
   "metadata": {},
   "outputs": [
    {
     "data": {
      "text/plain": [
       "A()"
      ]
     },
     "execution_count": 100,
     "metadata": {},
     "output_type": "execute_result"
    }
   ],
   "source": [
    "@dataclass\n",
    "class A:\n",
    "    parameter1 = None\n",
    "A()\n"
   ]
  }
 ],
 "metadata": {
  "kernelspec": {
   "display_name": "Python 3 (ipykernel)",
   "language": "python",
   "name": "python3"
  },
  "language_info": {
   "codemirror_mode": {
    "name": "ipython",
    "version": 3
   },
   "file_extension": ".py",
   "mimetype": "text/x-python",
   "name": "python",
   "nbconvert_exporter": "python",
   "pygments_lexer": "ipython3",
   "version": "3.9.7"
  }
 },
 "nbformat": 4,
 "nbformat_minor": 5
}
